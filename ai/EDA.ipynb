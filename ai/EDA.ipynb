{
 "cells": [
  {
   "cell_type": "code",
   "execution_count": 1,
   "metadata": {},
   "outputs": [],
   "source": [
    "import pandas as pd"
   ]
  },
  {
   "cell_type": "code",
   "execution_count": 18,
   "metadata": {},
   "outputs": [
    {
     "data": {
      "text/html": [
       "<div>\n",
       "<style scoped>\n",
       "    .dataframe tbody tr th:only-of-type {\n",
       "        vertical-align: middle;\n",
       "    }\n",
       "\n",
       "    .dataframe tbody tr th {\n",
       "        vertical-align: top;\n",
       "    }\n",
       "\n",
       "    .dataframe thead th {\n",
       "        text-align: right;\n",
       "    }\n",
       "</style>\n",
       "<table border=\"1\" class=\"dataframe\">\n",
       "  <thead>\n",
       "    <tr style=\"text-align: right;\">\n",
       "      <th></th>\n",
       "      <th>num_expediente;fecha;hora;localizacion;numero;cod_distrito;distrito;tipo_accidente;estado_meteorológico;tipo_vehiculo;tipo_persona;rango_edad;sexo;cod_lesividad;lesividad;coordenada_x_utm;coordenada_y_utm;positiva_alcohol;positiva_droga</th>\n",
       "    </tr>\n",
       "  </thead>\n",
       "  <tbody>\n",
       "    <tr>\n",
       "      <th>2023S000001;01/01/2023;1:15:00;AVDA. ALFONSO XIII</th>\n",
       "      <td>33;33;5;CHAMARTÍN;Alcance;Despejado;Todo terr...</td>\n",
       "    </tr>\n",
       "    <tr>\n",
       "      <th>2023S000001;01/01/2023;1:15:00;AVDA. ALFONSO XIII</th>\n",
       "      <td>33;33;5;CHAMARTÍN;Alcance;Despejado;Todo terr...</td>\n",
       "    </tr>\n",
       "    <tr>\n",
       "      <th>2023S000001;01/01/2023;1:15:00;AVDA. ALFONSO XIII</th>\n",
       "      <td>33;33;5;CHAMARTÍN;Alcance;Despejado;Todo terr...</td>\n",
       "    </tr>\n",
       "    <tr>\n",
       "      <th>2023S000001;01/01/2023;1:15:00;AVDA. ALFONSO XIII</th>\n",
       "      <td>33;33;5;CHAMARTÍN;Alcance;Despejado;Todo terr...</td>\n",
       "    </tr>\n",
       "    <tr>\n",
       "      <th>2023S000001;01/01/2023;1:15:00;AVDA. ALFONSO XIII</th>\n",
       "      <td>33;33;5;CHAMARTÍN;Alcance;Despejado;Todo terr...</td>\n",
       "    </tr>\n",
       "  </tbody>\n",
       "</table>\n",
       "</div>"
      ],
      "text/plain": [
       "                                                  num_expediente;fecha;hora;localizacion;numero;cod_distrito;distrito;tipo_accidente;estado_meteorológico;tipo_vehiculo;tipo_persona;rango_edad;sexo;cod_lesividad;lesividad;coordenada_x_utm;coordenada_y_utm;positiva_alcohol;positiva_droga\n",
       "2023S000001;01/01/2023;1:15:00;AVDA. ALFONSO XIII   33;33;5;CHAMARTÍN;Alcance;Despejado;Todo terr...                                                                                                                                                                                          \n",
       "2023S000001;01/01/2023;1:15:00;AVDA. ALFONSO XIII   33;33;5;CHAMARTÍN;Alcance;Despejado;Todo terr...                                                                                                                                                                                          \n",
       "2023S000001;01/01/2023;1:15:00;AVDA. ALFONSO XIII   33;33;5;CHAMARTÍN;Alcance;Despejado;Todo terr...                                                                                                                                                                                          \n",
       "2023S000001;01/01/2023;1:15:00;AVDA. ALFONSO XIII   33;33;5;CHAMARTÍN;Alcance;Despejado;Todo terr...                                                                                                                                                                                          \n",
       "2023S000001;01/01/2023;1:15:00;AVDA. ALFONSO XIII   33;33;5;CHAMARTÍN;Alcance;Despejado;Todo terr...                                                                                                                                                                                          "
      ]
     },
     "execution_count": 18,
     "metadata": {},
     "output_type": "execute_result"
    }
   ],
   "source": [
    "#lectura de csv\n",
    "ac1 = pd.read_csv('../data/2023_Accidentalidad.csv', on_bad_lines='skip')\n",
    "ac2 = pd.read_csv('../data/2024_Accidentalidad.csv', on_bad_lines='skip')\n",
    "tt = pd.read_csv('../data/49361.csv', on_bad_lines='skip') = pd.read_csv('../data/49361.csv', on_bad_lines='skip')\n",
    "E6 = pd.read_csv('../data/DATOS_ESTACIONES_JUNIO_2024.csv', on_bad_lines='skip')\n",
    "E7 = pd.read_csv('../data/DATOS_ESTACIONES_JULIO_2024.csv', on_bad_lines='skip')\n",
    "E8 = pd.read_csv('../data/DATOS_ESTACIONES_AGOSTO_2024.csv', on_bad_lines='skip')\n",
    "\n",
    "\n"
   ]
  }
 ],
 "metadata": {
  "kernelspec": {
   "display_name": "env",
   "language": "python",
   "name": "python3"
  },
  "language_info": {
   "codemirror_mode": {
    "name": "ipython",
    "version": 3
   },
   "file_extension": ".py",
   "mimetype": "text/x-python",
   "name": "python",
   "nbconvert_exporter": "python",
   "pygments_lexer": "ipython3",
   "version": "3.12.5"
  }
 },
 "nbformat": 4,
 "nbformat_minor": 2
}
