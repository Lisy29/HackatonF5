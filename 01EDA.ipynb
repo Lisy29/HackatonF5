{
 "cells": [
  {
   "cell_type": "code",
   "execution_count": 1,
   "metadata": {},
   "outputs": [],
   "source": [
    "import os\n",
    "import pandas as pd\n",
    "import numpy as np\n",
    "import matplotlib.pyplot as plt\n",
    "import seaborn as sns\n",
    "import gc"
   ]
  },
  {
   "cell_type": "markdown",
   "metadata": {},
   "source": [
    "# Visualización de datos"
   ]
  },
  {
   "cell_type": "code",
   "execution_count": 3,
   "metadata": {},
   "outputs": [
    {
     "name": "stdout",
     "output_type": "stream",
     "text": [
      "    id     destination    route alternate_route departure_time arrival_time  \\\n",
      "0  1.0  Puerta del Sol  Linea 3         Linea 9          19:49        20:00   \n",
      "1  2.0  Plaza Castilla  Linea 9         Linea 7          02:23        02:36   \n",
      "2  3.0  Puerta del Sol  Linea 4         Linea 2          18:58        19:31   \n",
      "3  4.0          Retiro  Linea 1         Linea 8          13:40        14:00   \n",
      "4  5.0          Retiro  Linea 2         Linea 5          05:58        06:19   \n",
      "\n",
      "  current_time           traffic_streets  distance_to_next_stop  \\\n",
      "0        19:58           Paseo del Prado                   2.12   \n",
      "1        02:50              Calle Atocha                   2.44   \n",
      "2        19:11    Calle de Bravo Murillo                   0.60   \n",
      "3        13:43  Calle de Guzmán el Bueno                   4.56   \n",
      "4        06:13              Calle Alcalá                   3.57   \n",
      "\n",
      "   time_estimate  ... incident_type incident_description deviation  fecha  \\\n",
      "0           55.0  ...     accidente        Tráfico denso        sí    NaN   \n",
      "1           21.0  ...        avería    Retraso por obras        sí    NaN   \n",
      "2           29.0  ...           NaN                  NaN        no    NaN   \n",
      "3           29.0  ...           NaN                  NaN        sí    NaN   \n",
      "4           48.0  ...           NaN                  NaN        no    NaN   \n",
      "\n",
      "  medio_transporte linea  pasajeros  tiempo_espera_min puntualidad incidencias  \n",
      "0              NaN   NaN        NaN                NaN         NaN         NaN  \n",
      "1              NaN   NaN        NaN                NaN         NaN         NaN  \n",
      "2              NaN   NaN        NaN                NaN         NaN         NaN  \n",
      "3              NaN   NaN        NaN                NaN         NaN         NaN  \n",
      "4              NaN   NaN        NaN                NaN         NaN         NaN  \n",
      "\n",
      "[5 rows x 29 columns]\n"
     ]
    }
   ],
   "source": [
    "# Cargar el archivo train.csv desde la misma carpeta\n",
    "E1 = pd.read_csv('01transport_data_madrid.csv', sep=None, engine='python')\n",
    "E2 = pd.read_csv('02transporte_madrid_dataset.csv', sep=None, engine='python')\n",
    "\n",
    "# contatenamos los dataset \n",
    "\n",
    "result = pd.concat([E1, E2], axis=0)\n",
    "\n",
    "# Mostrar Datos concatenados\n",
    "\n",
    "print(result.head())\n",
    "\n",
    "# Nuevo  dataset\n",
    "result.to_csv('dataset_concatenados.csv', index=False)"
   ]
  }
 ],
 "metadata": {
  "kernelspec": {
   "display_name": "Python 3",
   "language": "python",
   "name": "python3"
  },
  "language_info": {
   "codemirror_mode": {
    "name": "ipython",
    "version": 3
   },
   "file_extension": ".py",
   "mimetype": "text/x-python",
   "name": "python",
   "nbconvert_exporter": "python",
   "pygments_lexer": "ipython3",
   "version": "3.12.4"
  }
 },
 "nbformat": 4,
 "nbformat_minor": 2
}
